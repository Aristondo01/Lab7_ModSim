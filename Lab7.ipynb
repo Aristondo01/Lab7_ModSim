{
 "cells": [
  {
   "cell_type": "markdown",
   "metadata": {},
   "source": [
    "# Ejercicio 1 - Práctica"
   ]
  },
  {
   "cell_type": "markdown",
   "metadata": {},
   "source": [
    "## Imports"
   ]
  },
  {
   "cell_type": "code",
   "execution_count": 38,
   "metadata": {},
   "outputs": [],
   "source": [
    "import numpy as np\n",
    "from sklearn.datasets import load_iris\n",
    "from sklearn.model_selection import train_test_split\n",
    "from sklearn.linear_model import LogisticRegression\n",
    "from sklearn.ensemble import RandomForestClassifier\n",
    "from sklearn.svm import SVC\n",
    "from sklearn.metrics import accuracy_score\n",
    "from sklearn.ensemble import VotingClassifier\n",
    "import pandas as pd\n",
    "import matplotlib.pyplot as plt"
   ]
  },
  {
   "cell_type": "markdown",
   "metadata": {},
   "source": [
    "## Cargar datos"
   ]
  },
  {
   "cell_type": "code",
   "execution_count": 39,
   "metadata": {},
   "outputs": [],
   "source": [
    "# Cargar el conjunto de datos (usaremos el conjunto de datos Iris como ejemplo)\n",
    "data = pd.read_csv('cancer_data.csv')\n",
    "data = data.drop('Patient Id', axis=1)"
   ]
  },
  {
   "cell_type": "code",
   "execution_count": 40,
   "metadata": {},
   "outputs": [],
   "source": [
    "categoria_numerica = {'Low': 0, 'Medium': 1, 'High': 2}\n",
    "data['Level'] = data['Level'].map(categoria_numerica)"
   ]
  },
  {
   "cell_type": "code",
   "execution_count": 41,
   "metadata": {},
   "outputs": [
    {
     "data": {
      "text/plain": [
       "Index(['Age', 'Gender', 'Air Pollution', 'Alcohol use', 'Dust Allergy',\n",
       "       'OccuPational Hazards', 'Genetic Risk', 'chronic Lung Disease',\n",
       "       'Balanced Diet', 'Obesity', 'Smoking', 'Passive Smoker', 'Chest Pain',\n",
       "       'Coughing of Blood', 'Fatigue', 'Weight Loss', 'Shortness of Breath',\n",
       "       'Wheezing', 'Swallowing Difficulty', 'Clubbing of Finger Nails',\n",
       "       'Frequent Cold', 'Dry Cough', 'Snoring', 'Level'],\n",
       "      dtype='object')"
      ]
     },
     "execution_count": 41,
     "metadata": {},
     "output_type": "execute_result"
    }
   ],
   "source": [
    "data.columns"
   ]
  },
  {
   "cell_type": "code",
   "execution_count": 42,
   "metadata": {},
   "outputs": [],
   "source": [
    "# Dividir el conjunto de datos en entrenamiento y prueba\n",
    "X = data.drop('Level', axis=1)\n",
    "y = data['Level']\n",
    "X_train, X_test, y_train, y_test = train_test_split(X, y, test_size=0.2, random_state=42)"
   ]
  },
  {
   "cell_type": "markdown",
   "metadata": {},
   "source": [
    "## Distribución de los datos"
   ]
  },
  {
   "cell_type": "code",
   "execution_count": 43,
   "metadata": {},
   "outputs": [
    {
     "data": {
      "image/png": "[encoded data removed]",
      "text/plain": [
       "<Figure size 640x480 with 1 Axes>"
      ]
     },
     "metadata": {},
     "output_type": "display_data"
    }
   ],
   "source": [
    "valores_frecuencias = data['Level'].value_counts()\n",
    "\n",
    "# Graficar los valores y sus frecuencias\n",
    "valores_frecuencias.plot(kind='bar')\n",
    "\n",
    "# Configurar las etiquetas y título\n",
    "plt.xlabel('Valores')\n",
    "plt.ylabel('Frecuencia')\n",
    "plt.title('Frecuencia de valores únicos')\n",
    "\n",
    "# Mostrar la gráfica\n",
    "plt.show()"
   ]
  },
  {
   "cell_type": "markdown",
   "metadata": {},
   "source": [
    "## Crear modelos base"
   ]
  },
  {
   "cell_type": "code",
   "execution_count": 44,
   "metadata": {},
   "outputs": [
    {
     "name": "stderr",
     "output_type": "stream",
     "text": [
      "c:\\Users\\DELL\\Documents\\U\\Semestre 8\\Simulación\\Lab7_ModSim\\myenv\\Lib\\site-packages\\sklearn\\linear_model\\_logistic.py:460: ConvergenceWarning: lbfgs failed to converge (status=1):\n",
      "STOP: TOTAL NO. of ITERATIONS REACHED LIMIT.\n",
      "\n",
      "Increase the number of iterations (max_iter) or scale the data as shown in:\n",
      "    https://scikit-learn.org/stable/modules/preprocessing.html\n",
      "Please also refer to the documentation for alternative solver options:\n",
      "    https://scikit-learn.org/stable/modules/linear_model.html#logistic-regression\n",
      "  n_iter_i = _check_optimize_result(\n"
     ]
    },
    {
     "data": {
      "text/html": [
       "<style>#sk-container-id-4 {color: black;}#sk-container-id-4 pre{padding: 0;}#sk-container-id-4 div.sk-toggleable {background-color: white;}#sk-container-id-4 label.sk-toggleable__label {cursor: pointer;display: block;width: 100%;margin-bottom: 0;padding: 0.3em;box-sizing: border-box;text-align: center;}#sk-container-id-4 label.sk-toggleable__label-arrow:before {content: \"▸\";float: left;margin-right: 0.25em;color: #696969;}#sk-container-id-4 label.sk-toggleable__label-arrow:hover:before {color: black;}#sk-container-id-4 div.sk-estimator:hover label.sk-toggleable__label-arrow:before {color: black;}#sk-container-id-4 div.sk-toggleable__content {max-height: 0;max-width: 0;overflow: hidden;text-align: left;background-color: #f0f8ff;}#sk-container-id-4 div.sk-toggleable__content pre {margin: 0.2em;color: black;border-radius: 0.25em;background-color: #f0f8ff;}#sk-container-id-4 input.sk-toggleable__control:checked~div.sk-toggleable__content {max-height: 200px;max-width: 100%;overflow: auto;}#sk-container-id-4 input.sk-toggleable__control:checked~label.sk-toggleable__label-arrow:before {content: \"▾\";}#sk-container-id-4 div.sk-estimator input.sk-toggleable__control:checked~label.sk-toggleable__label {background-color: #d4ebff;}#sk-container-id-4 div.sk-label input.sk-toggleable__control:checked~label.sk-toggleable__label {background-color: #d4ebff;}#sk-container-id-4 input.sk-hidden--visually {border: 0;clip: rect(1px 1px 1px 1px);clip: rect(1px, 1px, 1px, 1px);height: 1px;margin: -1px;overflow: hidden;padding: 0;position: absolute;width: 1px;}#sk-container-id-4 div.sk-estimator {font-family: monospace;background-color: #f0f8ff;border: 1px dotted black;border-radius: 0.25em;box-sizing: border-box;margin-bottom: 0.5em;}#sk-container-id-4 div.sk-estimator:hover {background-color: #d4ebff;}#sk-container-id-4 div.sk-parallel-item::after {content: \"\";width: 100%;border-bottom: 1px solid gray;flex-grow: 1;}#sk-container-id-4 div.sk-label:hover label.sk-toggleable__label {background-color: #d4ebff;}#sk-container-id-4 div.sk-serial::before {content: \"\";position: absolute;border-left: 1px solid gray;box-sizing: border-box;top: 0;bottom: 0;left: 50%;z-index: 0;}#sk-container-id-4 div.sk-serial {display: flex;flex-direction: column;align-items: center;background-color: white;padding-right: 0.2em;padding-left: 0.2em;position: relative;}#sk-container-id-4 div.sk-item {position: relative;z-index: 1;}#sk-container-id-4 div.sk-parallel {display: flex;align-items: stretch;justify-content: center;background-color: white;position: relative;}#sk-container-id-4 div.sk-item::before, #sk-container-id-4 div.sk-parallel-item::before {content: \"\";position: absolute;border-left: 1px solid gray;box-sizing: border-box;top: 0;bottom: 0;left: 50%;z-index: -1;}#sk-container-id-4 div.sk-parallel-item {display: flex;flex-direction: column;z-index: 1;position: relative;background-color: white;}#sk-container-id-4 div.sk-parallel-item:first-child::after {align-self: flex-end;width: 50%;}#sk-container-id-4 div.sk-parallel-item:last-child::after {align-self: flex-start;width: 50%;}#sk-container-id-4 div.sk-parallel-item:only-child::after {width: 0;}#sk-container-id-4 div.sk-dashed-wrapped {border: 1px dashed gray;margin: 0 0.4em 0.5em 0.4em;box-sizing: border-box;padding-bottom: 0.4em;background-color: white;}#sk-container-id-4 div.sk-label label {font-family: monospace;font-weight: bold;display: inline-block;line-height: 1.2em;}#sk-container-id-4 div.sk-label-container {text-align: center;}#sk-container-id-4 div.sk-container {/* jupyter's `normalize.less` sets `[hidden] { display: none; }` but bootstrap.min.css set `[hidden] { display: none !important; }` so we also need the `!important` here to be able to override the default hidden behavior on the sphinx rendered scikit-learn.org. See: https://github.com/scikit-learn/scikit-learn/issues/21755 */display: inline-block !important;position: relative;}#sk-container-id-4 div.sk-text-repr-fallback {display: none;}</style><div id=\"sk-container-id-4\" class=\"sk-top-container\"><div class=\"sk-text-repr-fallback\"><pre>SVC()</pre><b>In a Jupyter environment, please rerun this cell to show the HTML representation or trust the notebook. <br />On GitHub, the HTML representation is unable to render, please try loading this page with nbviewer.org.</b></div><div class=\"sk-container\" hidden><div class=\"sk-item\"><div class=\"sk-estimator sk-toggleable\"><input class=\"sk-toggleable__control sk-hidden--visually\" id=\"sk-estimator-id-4\" type=\"checkbox\" checked><label for=\"sk-estimator-id-4\" class=\"sk-toggleable__label sk-toggleable__label-arrow\">SVC</label><div class=\"sk-toggleable__content\"><pre>SVC()</pre></div></div></div></div></div>"
      ],
      "text/plain": [
       "SVC()"
      ]
     },
     "execution_count": 44,
     "metadata": {},
     "output_type": "execute_result"
    }
   ],
   "source": [
    "\n",
    "logistic_model = LogisticRegression()\n",
    "random_forest_model = RandomForestClassifier()\n",
    "svm_model = SVC()\n",
    "\n",
    "logistic_model.fit(X_train, y_train)\n",
    "random_forest_model.fit(X_train, y_train)\n",
    "svm_model.fit(X_train, y_train)\n"
   ]
  },
  {
   "cell_type": "markdown",
   "metadata": {},
   "source": [
    "## Predicciones modelos base"
   ]
  },
  {
   "cell_type": "code",
   "execution_count": 45,
   "metadata": {},
   "outputs": [],
   "source": [
    "# Hacer predicciones con los modelos individuales\n",
    "logistic_predictions = logistic_model.predict(X_test)\n",
    "rf_predictions = random_forest_model.predict(X_test)\n",
    "svm_predictions = svm_model.predict(X_test)\n",
    "\n",
    "# Calcular la precisión de los modelos individuales\n",
    "logistic_accuracy = accuracy_score(y_test, logistic_predictions)\n",
    "rf_accuracy = accuracy_score(y_test, rf_predictions)\n",
    "svm_accuracy = accuracy_score(y_test, svm_predictions)\n"
   ]
  },
  {
   "cell_type": "markdown",
   "metadata": {},
   "source": [
    "## Creación meta-modelo"
   ]
  },
  {
   "cell_type": "code",
   "execution_count": 46,
   "metadata": {},
   "outputs": [
    {
     "name": "stderr",
     "output_type": "stream",
     "text": [
      "c:\\Users\\DELL\\Documents\\U\\Semestre 8\\Simulación\\Lab7_ModSim\\myenv\\Lib\\site-packages\\sklearn\\linear_model\\_logistic.py:460: ConvergenceWarning: lbfgs failed to converge (status=1):\n",
      "STOP: TOTAL NO. of ITERATIONS REACHED LIMIT.\n",
      "\n",
      "Increase the number of iterations (max_iter) or scale the data as shown in:\n",
      "    https://scikit-learn.org/stable/modules/preprocessing.html\n",
      "Please also refer to the documentation for alternative solver options:\n",
      "    https://scikit-learn.org/stable/modules/linear_model.html#logistic-regression\n",
      "  n_iter_i = _check_optimize_result(\n"
     ]
    },
    {
     "name": "stdout",
     "output_type": "stream",
     "text": [
      "Precisión del modelo de Regresión Logística: 0.995\n",
      "Precisión del modelo de Bosque Aleatorio: 1.0\n",
      "Precisión del modelo SVM: 0.965\n",
      "Precisión del meta-modelo (clasificador de votación): 1.0\n"
     ]
    }
   ],
   "source": [
    "\n",
    "# Crear un meta-modelo (usaremos un clasificador de votación)\n",
    "voting_clf = VotingClassifier(estimators=[\n",
    "    ('logistic', logistic_model),\n",
    "    ('random_forest', random_forest_model),\n",
    "    ('svm', svm_model)\n",
    "], voting='hard')\n",
    "\n",
    "# Entrenar el meta-modelo con las predicciones de los modelos individuales\n",
    "voting_clf.fit(X_train, y_train)\n",
    "\n",
    "# Hacer predicciones con el meta-modelo\n",
    "meta_model_predictions = voting_clf.predict(X_test)\n",
    "\n",
    "# Calcular la precisión del meta-modelo\n",
    "meta_model_accuracy = accuracy_score(y_test, meta_model_predictions)\n",
    "\n",
    "print(f'Precisión del modelo de Regresión Logística: {logistic_accuracy}')\n",
    "print(f'Precisión del modelo de Bosque Aleatorio: {rf_accuracy}')\n",
    "print(f'Precisión del modelo SVM: {svm_accuracy}')\n",
    "print(f'Precisión del meta-modelo (clasificador de votación): {meta_model_accuracy}')\n"
   ]
  },
  {
   "cell_type": "markdown",
   "metadata": {},
   "source": [
    "## Preguntas\n",
    "\n",
    "**a. ¿Por qué este es un ejemplo de meta-modelado?**  \n",
    "El meta-modelado busca que mediante a ciertas caracteristicas de un fenomeno se pueda predecir el comportamiento de este sin la necesidad de modelar o sabar todas las complejas relaciones que existen entre estos datos. En este caso se busca predecir el avance o \"nivel\" en la que se encuentra el cancer. Para encontrar esta relación en los datos se están utilizando 3 modelos base, los cuales se combinan para que el meta-modelo pueda predecir el nivel de cancer.\n",
    "\n",
    "**b. ¿Cuál es el modelo sustitutivo?**  \n",
    "Para el modelo sustituto se escogio un modelo de clasificador por votación, este modelo obtiene las predicciones de los modelos base y mediante la votación de estos predice el nivel de cancer. Debido a que estamos utilizando un modelo de votación utilizamos 3 modelos para evitar los empates\n",
    "\n",
    "**c. Explique adecuadamente la construcción de su modelo y qué aplicaciones puede tener en la vida real**  \n",
    "\n",
    "El modelo fue construido usando 3 modelos base, que fueron una regresión logística, un random forest y una SVM. Estos modelos luego fueron usados con un clasificador por medio de votos, el cual se encarga de predecir el nivel del cáncer dependiendo del resultado de cada modelo. Entonces, se usa el resultado más frecuente obtenido. Este clasificador por votos es el meta-modelo, que básicamente se puede decir que administra los resultados obtenidos de cada submodelo para poder capturar las relaciones del fenómeno y producir resultados. En la vida real puede tener múltiples aplicaciones. Como se evidenció con el conjunto de datos usado, puede ayudar a identificar la etapa de cáncer en la que está un paciente. También pueden servir para fines bancarios, como la predicción de fraude o para segmentación de clientes. También se puede usar para fines farmacéuticos, como la clasificación de una droga como tóxica o no.\n",
    "\n",
    "\n"
   ]
  },
  {
   "cell_type": "markdown",
   "metadata": {},
   "source": [
    "# Ejercicio 2 - Teoría"
   ]
  },
  {
   "cell_type": "markdown",
   "metadata": {},
   "source": [
    "**a. Explique el concepto de modelo sustituto y su papel en la aproximación de sistemas complejos. Mencione al menos un ejemplo de situaciones en las que el modelado sustituto sea particularmente beneficioso.**  \n",
    "\n",
    "Un modelo sustituto es una representación simplificada de un sistema. Este tipo modelo de aproximación, se \n",
    "utiliza cuando se tiene un sistema que es muy complejo, el cual requiere demasiadas interacciones y variables \n",
    "para capturar sus características. Entonces el modelo sustituto permite capturar relaciones y patrones clave\n",
    "para la toma de decisiones. Si se modelara el sistema considerando todos sus factores, su simulación sería demasiado ineficiente y compleja computacionalmente, por lo que el metamodelo permite eficientizar la optimización, análisis de sensibilidad y comprensión del problema.\n",
    "\n",
    "El primer ejemplo interesante que se puede mencionar es el diseño de vehículos y su aerodinamismo. Los modelos sustitutos se usan para optimizar el diseño de carros, aviones y otros medios de transporte, de forma que se simula su interacción con el aire para evaluar la morfología de los vehículos, pudiendo realizar experimentos baratos en tiempo y dinero. Otro ejemplo es el diseño de fármacos, donde los modelos son usados para simular interacciones moleculares y predecir efectos de drogas, fenómenos que son demasiado complejos si se busca una representación demasiado exacta.\n",
    " \n",
    "\n",
    "**b. En el contexto del modelado sustituto (meta-modelado), ¿qué se entiende por sesgo de selección del modelo y cómo puede afectar la precisión de las predicciones del modelo sustituto? Detalle al menos una estrategia para mitigar este sesgo.**  \n",
    "\n",
    "El modelo sustituyo puede sufrir de un sesgo por alguna de las siguientes razones:\n",
    "\n",
    "- *Sesgo en la elección del modelo sustituto*: Si se elige un modelo sustituto que no es lo suficientemente complejo o adecuado para representar con precisión el modelo original, las predicciones del modelo sustituto estarán sesgadas y serán inexactas.\n",
    "\n",
    "- *Sesgo en la selección de características o variables*: Al seleccionar qué características o variables incluir en el modelo sustituto, es posible que se omitan características importantes o se incluyan características irrelevantes, lo que puede llevar a un sesgo en las predicciones.\n",
    "\n",
    "- *Sesgo en la métrica de evaluación*: Si la métrica utilizada para seleccionar el modelo sustituto no es apropiada o no refleja adecuadamente el rendimiento deseado en el modelo original, esto puede llevar a la elección de un modelo sustituto subóptimo.\n",
    "\n",
    "-  *Sesgo en los modelos base*: Si los modelos base utilizados para construir el modelo sustituto están sesgados, esto puede afectar la precisión del modelo sustituto.\n",
    "\n",
    "- *Sesgo por overfiting de los modelos base*: Si uno o varios modelos tienen un sobreajuste, esto puede afectar la precisión del modelo sustituto.\n",
    "\n",
    "\n",
    "**c. Analice el equilibrio entre la precisión del modelo y la eficiencia computacional al elegir la complejidad de un modelo sustituto. ¿En qué circunstancias optaría por un modelo más complejo y cuándo sería preferible un modelo más simple?**  \n",
    "\n",
    "Existen diferentes factores para considerar la complejidad del modelo. Por un lado, si la precisión del modelo es muy importante, es preferible un modelo más complejo, de forma que se puedan capturar relaciones más importantes entre los datos y se generen resultados exactos para los fines del fenómeno estudiado. También, si se tiene una gran cantidad de datos y se tiene una capacidad computacional alta, la complejidad puede subir, debido a que los datos permiten encontrar relaciones más complejas y la capacidad computacional permite entrenar el modelo con esta gran cantidad de datos y además, que el modelo sea más complejo, como una red neuronal.\n",
    "\n",
    "Por otro lado, si se tienen recursos limitados, por ejemplo, si se tienen restricciones de hardware, es preferible un modelo más simple, de forma que igualmente se puedan obtener resultados adecuados del problema que se busca resolver, aunque puede que no sean tan precisos. También, si se busca tener más interpretabilidad, normalmente un modelo más simple es mejor. Por ejemplo, hay ocasiones donde las redes neuronales son cajas negras, por lo que no se sabe que relaciones están capturando. Por otra parte, un modelo más sencillo puede ser mejor de explicar.\n",
    "\n",
    "**d. ¿Cuáles son las limitaciones del modelado sustituto y qué tipos de problemas pueden no ser adecuados para la aproximación del modelo sustituto? Proporcione ejemplos para ilustrar estas limitaciones.**  \n",
    "\n",
    "Las limitaciones del modelado sustituto son:\n",
    "\n",
    "- *Complejidad del fenónmeno original*: Si el fenómeno original es demasiado complejo, el modelo sustituto puede no ser capaz de capturar todas las relaciones y patrones importantes, lo que puede llevar a predicciones inexactas. Una de las bases del meta-modelado es que el modelo sustituto sea más simple que el modelo original, por lo que si el modelo original es demasiado complejo, el modelo sustituto no será capaz de hacer predicciones precisas.\n",
    "\n",
    "\n",
    "- *Fenómeno cambiante*: Si el fenómeno original cambia con el tiempo, el modelo sustituto a cierto tiempo dara predicciones correctas para el conjutno de datos pasados pero no para los nuevos eventos. Esta situacón conlleva a la necesidad de actualizar los datos y entrenar constantemente el modelo.\n",
    "\n",
    "- *Fenómenos simples*: Si el fenómeno que se busca modelar/predecir utilizar un acercamiendo de meta-modelado puede ser innecesario y hasta contraproducente. Esto se debe a que el meta-modelado busca simplificar el fenómeno, por lo que si el fenómeno es simple, no se necesita un modelo sustituto. Además se estarán usando recursos computacionales innecesarios.\n",
    "\n",
    "- *Conjunto de datos reducidos*: Cuando se dispone de conjuntos de datos pequeños, el modelado sustituto puede ser menos efectivo debido a la falta de datos suficientes para entrenar y evaluar tanto el modelo original como el modelo sustituto.\n",
    "\n",
    "\n",
    "\n",
    "\n",
    "**e. Imagine que tiene un problema complejo y de grandes dimensiones con recursos computacionales limitados. ¿Cómo abordaría la reducción de dimensionalidad y la selección de características antes de construir un modelo sustituto? ¿Qué métodos o técnicas podría emplear?**  \n",
    "\n",
    "Por un lado, realizaríamos una ingeniería de características para determinar cuales son las variables que más influyen en el resultado de la simulación. Esto nos permitiría incluir únicamente aquellos factores que verdaderamente ayudan al modelo a generar resultados, sacando variables que están relacionadas entre sí o aquellas que solo agregan ruido. Esto se puede llevar a cabo por medio de una matriz de correlación para variables numéricas o test de chi-cuadrado para variables categóricas. Para reducir la dimensionalidad, usaríamos alguna técnica como PCA, en donde se puede mantener la información escencial del conjunto de datos, reduciendo las características a un espacio de menor dimesiones. De esta forma, se tendrían las características más importantes, reducidas a dimensiones que representan los datos más eficientemente y que aportan más información al modelo. Otra acción que se puede llevar a cabo, es el uso de modelos de aprendizaje automático que seleccionan las características más relevantes que aportan al modelo. Entre ellos se encuentran principalmente árboles de decisión, bosques aleatorios y XGBoost."
   ]
  }
 ],
 "metadata": {
  "kernelspec": {
   "display_name": "myenv",
   "language": "python",
   "name": "python3"
  },
  "language_info": {
   "codemirror_mode": {
    "name": "ipython",
    "version": 3
   },
   "file_extension": ".py",
   "mimetype": "text/x-python",
   "name": "python",
   "nbconvert_exporter": "python",
   "pygments_lexer": "ipython3",
   "version": "3.11.5"
  },
  "orig_nbformat": 4
 },
 "nbformat": 4,
 "nbformat_minor": 2
}

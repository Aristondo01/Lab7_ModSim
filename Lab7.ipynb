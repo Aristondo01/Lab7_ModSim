{
 "cells": [
  {
   "cell_type": "markdown",
   "metadata": {},
   "source": [
    "# Imports"
   ]
  },
  {
   "cell_type": "code",
   "execution_count": null,
   "metadata": {},
   "outputs": [],
   "source": [
    "import numpy as np\n",
    "from sklearn.datasets import load_iris\n",
    "from sklearn.model_selection import train_test_split\n",
    "from sklearn.linear_model import LogisticRegression\n",
    "from sklearn.ensemble import RandomForestClassifier\n",
    "from sklearn.svm import SVC\n",
    "from sklearn.metrics import accuracy_score\n",
    "from sklearn.ensemble import VotingClassifier"
   ]
  },
  {
   "cell_type": "markdown",
   "metadata": {},
   "source": [
    "# Cargar datos"
   ]
  },
  {
   "cell_type": "code",
   "execution_count": null,
   "metadata": {},
   "outputs": [],
   "source": [
    "\n",
    "\n",
    "# Cargar el conjunto de datos (usaremos el conjunto de datos Iris como ejemplo)\n",
    "data = load_iris()\n",
    "X, y = data.data, data.target\n",
    "\n",
    "# Dividir el conjunto de datos en entrenamiento y prueba\n",
    "X_train, X_test, y_train, y_test = train_test_split(X, y, test_size=0.2, random_state=42)\n"
   ]
  },
  {
   "cell_type": "markdown",
   "metadata": {},
   "source": [
    "# Crear modelos base"
   ]
  },
  {
   "cell_type": "code",
   "execution_count": null,
   "metadata": {},
   "outputs": [],
   "source": [
    "\n",
    "logistic_model = LogisticRegression()\n",
    "random_forest_model = RandomForestClassifier()\n",
    "svm_model = SVC()\n",
    "\n",
    "logistic_model.fit(X_train, y_train)\n",
    "random_forest_model.fit(X_train, y_train)\n",
    "svm_model.fit(X_train, y_train)\n"
   ]
  },
  {
   "cell_type": "markdown",
   "metadata": {},
   "source": [
    "# Predicciones modelos base"
   ]
  },
  {
   "cell_type": "code",
   "execution_count": null,
   "metadata": {},
   "outputs": [],
   "source": [
    "\n",
    "# Hacer predicciones con los modelos individuales\n",
    "logistic_predictions = logistic_model.predict(X_test)\n",
    "rf_predictions = random_forest_model.predict(X_test)\n",
    "svm_predictions = svm_model.predict(X_test)\n",
    "\n",
    "# Calcular la precisión de los modelos individuales\n",
    "logistic_accuracy = accuracy_score(y_test, logistic_predictions)\n",
    "rf_accuracy = accuracy_score(y_test, rf_predictions)\n",
    "svm_accuracy = accuracy_score(y_test, svm_predictions)\n"
   ]
  },
  {
   "cell_type": "markdown",
   "metadata": {},
   "source": [
    "# Creación meta-modelo"
   ]
  },
  {
   "cell_type": "code",
   "execution_count": null,
   "metadata": {},
   "outputs": [],
   "source": [
    "\n",
    "# Crear un meta-modelo (usaremos un clasificador de votación)\n",
    "voting_clf = VotingClassifier(estimators=[\n",
    "    ('logistic', logistic_model),\n",
    "    ('random_forest', random_forest_model),\n",
    "    ('svm', svm_model)\n",
    "], voting='hard')\n",
    "\n",
    "# Entrenar el meta-modelo con las predicciones de los modelos individuales\n",
    "voting_clf.fit(X_train, y_train)\n",
    "\n",
    "# Hacer predicciones con el meta-modelo\n",
    "meta_model_predictions = voting_clf.predict(X_test)\n",
    "\n",
    "# Calcular la precisión del meta-modelo\n",
    "meta_model_accuracy = accuracy_score(y_test, meta_model_predictions)\n",
    "\n",
    "print(f'Precisión del modelo de Regresión Logística: {logistic_accuracy}')\n",
    "print(f'Precisión del modelo de Bosque Aleatorio: {rf_accuracy}')\n",
    "print(f'Precisión del modelo SVM: {svm_accuracy}')\n",
    "print(f'Precisión del meta-modelo (clasificador de votación): {meta_model_accuracy}')\n"
   ]
  }
 ],
 "metadata": {
  "kernelspec": {
   "display_name": "myenv",
   "language": "python",
   "name": "python3"
  },
  "language_info": {
   "codemirror_mode": {
    "name": "ipython",
    "version": 3
   },
   "file_extension": ".py",
   "mimetype": "text/x-python",
   "name": "python",
   "nbconvert_exporter": "python",
   "pygments_lexer": "ipython3",
   "version": "3.11.5"
  },
  "orig_nbformat": 4
 },
 "nbformat": 4,
 "nbformat_minor": 2
}
